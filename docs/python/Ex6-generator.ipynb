{
 "cells": [
  {
   "cell_type": "markdown",
   "metadata": {},
   "source": [
    "# Exercise. my range function\n",
    "Unit test를 위해 `test` function이 다음과 같이 주어져 있고, 각 문제마다 적어도 제공된 test case들을 통과해야 한다."
   ]
  },
  {
   "cell_type": "code",
   "execution_count": 4,
   "metadata": {},
   "outputs": [],
   "source": [
    "import sys\n",
    "\n",
    "def test(did_pass):\n",
    "    \"\"\"  Print the result of a test.  \"\"\"\n",
    "    linenum = sys._getframe(1).f_lineno   # Get the caller's line number.\n",
    "    if did_pass:\n",
    "        msg = \"Test at line {0} ok.\".format(linenum)\n",
    "    else:\n",
    "        msg = (\"Test at line {0} FAILED.\".format(linenum))\n",
    "    print(msg)"
   ]
  },
  {
   "cell_type": "markdown",
   "metadata": {},
   "source": [
    "Q1. list를 return하는 `lrange1()` function을 작성하고 시험하라."
   ]
  },
  {
   "cell_type": "code",
   "execution_count": 43,
   "metadata": {},
   "outputs": [
    {
     "name": "stdout",
     "output_type": "stream",
     "text": [
      "[0, 1, 2, 3]\n",
      "Test at line 8 ok.\n",
      "Test at line 9 ok.\n"
     ]
    }
   ],
   "source": [
    "def lrange1(start, stop, step):\n",
    "    if step == 0:   # Cause ValueError exception\n",
    "        raise ValueError('step must be non-zero') \n",
    "    return [i for i in range(start, stop, step)]\n",
    "    \n",
    "# print(lrange1(0, 4, 0))\n",
    "print(lrange1(0, 4, 1))\n",
    "test(lrange1(-1, 7, 2) == [-1, 1, 3, 5])\n",
    "test(lrange1(10, 1, -2) == [10, 8, 6, 4, 2])"
   ]
  },
  {
   "cell_type": "markdown",
   "metadata": {},
   "source": [
    "Q2. list를 return하되, 다만, 다음과 같은 형식으로 argument를 받을 수 있는 함수 lrange(start, stop, step)를 작성하라.\n",
    "- lrange(start, stop): 3번째 argument가 생략되면 step=1\n",
    "- lrange(stop): 2번째 3번째 argument가 생략되면, start=0, step=1\n",
    "  - Hint: parameter stop이 생략되면 `None`이 되게 해보자."
   ]
  },
  {
   "cell_type": "code",
   "execution_count": 44,
   "metadata": {},
   "outputs": [
    {
     "name": "stdout",
     "output_type": "stream",
     "text": [
      "[0, 1, 2, 3]\n",
      "[]\n",
      "[0, 1, 2, 3]\n",
      "None\n",
      "Test at line 18 ok.\n",
      "Test at line 19 ok.\n",
      "Test at line 20 ok.\n",
      "Test at line 21 ok.\n",
      "Test at line 22 ok.\n"
     ]
    },
    {
     "name": "stderr",
     "output_type": "stream",
     "text": [
      "C:\\src\\Anaconda3\\lib\\site-packages\\ipykernel_launcher.py:20: DeprecationWarning: Calling np.sum(generator) is deprecated, and in the future will give a different result. Use np.sum(np.fromiter(generator)) or the python sum builtin instead.\n"
     ]
    }
   ],
   "source": [
    "def lrange(start = None, stop = None, step = 1):\n",
    "    if start is None and stop is None: # argument가 없는 경우\n",
    "        return None\n",
    "    elif start is None: # key argument로 지정한 경우\n",
    "        return [i for i in range(0, stop, step)]\n",
    "    elif stop is None: # Position argument를 받은 경우\n",
    "#         stop = start\n",
    "#         start = 0 # step = 2 or step = 3\n",
    "#         return [i for i in range(start, stop, step)]\n",
    "        return [i for i in range(0, start, step)]\n",
    "    else:   #  두 개 이상의 argument가 있을 경우\n",
    "        return [i for i in range(start, stop, step)]\n",
    "\n",
    "print(lrange(4))\n",
    "print(lrange(0))\n",
    "print(lrange(stop = 4))\n",
    "print(lrange())\n",
    "test(lrange() == None) # add\n",
    "test(lrange(4) == [0, 1, 2, 3])\n",
    "test(sum(i for i in lrange(1, 11)) == 55)\n",
    "test(lrange(-1, 7, 2) == list(range(-1, 7, 2)))\n",
    "test(lrange(10, 1, -2) == list(range(10, 1, -2)))"
   ]
  },
  {
   "cell_type": "code",
   "execution_count": null,
   "metadata": {},
   "outputs": [],
   "source": [
    "def lrange(*arguments):\n",
    "    list_new = []\n",
    "    if(len(arguments)==0):\n",
    "        return None\n",
    "    if(len(arguments)==1):\n",
    "        return lrange1(0,int(arguments[0]),1)\n",
    "    elif(len(arguments)==2):\n",
    "        return lrange1(arguments[0],arguments[1],1)\n",
    "    elif(len(arguments)==3):\n",
    "        return lrange1(arguments[0],arguments[1],arguments[2])  "
   ]
  },
  {
   "cell_type": "markdown",
   "metadata": {},
   "source": [
    "Q3. Q2와 동일하지만 generator로 구현한 `xrange()`  함수를 작성하라."
   ]
  },
  {
   "cell_type": "code",
   "execution_count": 35,
   "metadata": {},
   "outputs": [
    {
     "name": "stdout",
     "output_type": "stream",
     "text": [
      "<generator object xrange at 0x0000016AB180DBC8>\n",
      "0\n",
      "1\n",
      "2\n",
      "[0, 1, 2, 3]\n",
      "Test at line 19 ok.\n",
      "Test at line 20 ok.\n",
      "Test at line 21 ok.\n",
      "Test at line 22 ok.\n",
      "Test at line 23 ok.\n"
     ]
    },
    {
     "name": "stderr",
     "output_type": "stream",
     "text": [
      "C:\\src\\Anaconda3\\lib\\site-packages\\ipykernel_launcher.py:21: DeprecationWarning: Calling np.sum(generator) is deprecated, and in the future will give a different result. Use np.sum(np.fromiter(generator)) or the python sum builtin instead.\n"
     ]
    }
   ],
   "source": [
    "def xrange(start = 0, stop=0, step = 1):\n",
    "    if start == 0 and stop == 0: #this means that  nothing is in the parameter\n",
    "        yield None\n",
    "    elif stop == 0: #this means that only one parameter is in\n",
    "        yield from range(0, start, step)\n",
    "    else:   #step default is 1 so doesnt matter about the step.\n",
    "        yield from range(start, stop, step)\n",
    "#         for i in range(start, stop, step):\n",
    "#             yield i \n",
    "        \n",
    "\n",
    "        \n",
    "print(xrange(4))\n",
    "x = xrange(4)\n",
    "print(next(x))\n",
    "print(next(x))\n",
    "print(next(x))\n",
    "print(list(xrange(4)))\n",
    "test(list(xrange(4)) == [0, 1, 2, 3])\n",
    "test(list(xrange(4)) == list(range(4)))\n",
    "test(sum(i for i in xrange(1, 11)) == 55)\n",
    "test(list(xrange(-1, 7, 2)) == list(range(-1, 7, 2)))\n",
    "test(list(xrange(10, 1, -2)) == list(range(10, 1, -2)))"
   ]
  }
 ],
 "metadata": {
  "kernelspec": {
   "display_name": "Python 3",
   "language": "python",
   "name": "python3"
  },
  "language_info": {
   "codemirror_mode": {
    "name": "ipython",
    "version": 3
   },
   "file_extension": ".py",
   "mimetype": "text/x-python",
   "name": "python",
   "nbconvert_exporter": "python",
   "pygments_lexer": "ipython3",
   "version": "3.7.6"
  }
 },
 "nbformat": 4,
 "nbformat_minor": 2
}
