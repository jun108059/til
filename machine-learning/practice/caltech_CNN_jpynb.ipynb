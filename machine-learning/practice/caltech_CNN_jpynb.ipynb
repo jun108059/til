{
  "nbformat": 4,
  "nbformat_minor": 0,
  "metadata": {
    "colab": {
      "name": "caltech_CNN.jpynb",
      "provenance": [],
      "collapsed_sections": [],
      "authorship_tag": "ABX9TyPFxiC5FYYrLPHLQ/PgBll8",
      "include_colab_link": true
    },
    "kernelspec": {
      "name": "python3",
      "display_name": "Python 3"
    }
  },
  "cells": [
    {
      "cell_type": "markdown",
      "metadata": {
        "id": "view-in-github",
        "colab_type": "text"
      },
      "source": [
        "<a href=\"https://colab.research.google.com/github/jun108059/til/blob/master/caltech_CNN_jpynb.ipynb\" target=\"_parent\"><img src=\"https://colab.research.google.com/assets/colab-badge.svg\" alt=\"Open In Colab\"/></a>"
      ]
    },
    {
      "cell_type": "code",
      "metadata": {
        "id": "8PhqxIORnhS5",
        "colab_type": "code",
        "outputId": "90d0ac16-eaeb-4c7e-e298-458819bbfdcd",
        "colab": {
          "base_uri": "https://localhost:8080/",
          "height": 127
        }
      },
      "source": [
        " # for mount (google drive → colab)\n",
        "from google.colab import drive\n",
        "drive.mount('/drive')"
      ],
      "execution_count": 0,
      "outputs": [
        {
          "output_type": "stream",
          "text": [
            "Go to this URL in a browser: https://accounts.google.com/o/oauth2/auth?client_id=947318989803-6bn6qk8qdgf4n4g3pfee6491hc0brc4i.apps.googleusercontent.com&redirect_uri=urn%3aietf%3awg%3aoauth%3a2.0%3aoob&response_type=code&scope=email%20https%3a%2f%2fwww.googleapis.com%2fauth%2fdocs.test%20https%3a%2f%2fwww.googleapis.com%2fauth%2fdrive%20https%3a%2f%2fwww.googleapis.com%2fauth%2fdrive.photos.readonly%20https%3a%2f%2fwww.googleapis.com%2fauth%2fpeopleapi.readonly\n",
            "\n",
            "Enter your authorization code:\n",
            "··········\n",
            "Mounted at /drive\n"
          ],
          "name": "stdout"
        }
      ]
    },
    {
      "cell_type": "code",
      "metadata": {
        "id": "c21tZAtXC84v",
        "colab_type": "code",
        "outputId": "5c9c4236-0ff6-4772-eaf0-c43a3ce50444",
        "colab": {
          "base_uri": "https://localhost:8080/",
          "height": 35
        }
      },
      "source": [
        "!ls \"/drive/My Drive\""
      ],
      "execution_count": 0,
      "outputs": [
        {
          "output_type": "stream",
          "text": [
            " caltech101   caltech_CNN.jpynb  'Getting started.pdf'\t test.ipynb\n"
          ],
          "name": "stdout"
        }
      ]
    },
    {
      "cell_type": "code",
      "metadata": {
        "id": "xCkcnEviJ8Ol",
        "colab_type": "code",
        "colab": {
          "base_uri": "https://localhost:8080/",
          "height": 34
        },
        "outputId": "aae1781f-1943-4da0-89d5-b862b6d576d3"
      },
      "source": [
        "# 학습 데이터셋 준비 및 이미지 전처리\n",
        "# 케라스 라이브러리 활용\n",
        "# ImageDataGenerator import\n",
        "from keras.preprocessing.image import ImageDataGenerator\n",
        "train_datagen = ImageDataGenerator(rescale = 1. / 225, validation_split = 0.2)\n",
        "\n",
        "# 배치 사이즈 = 16\n",
        "# 이미지 사이즈 = 200x200 픽셀\n",
        "# caltech101 데이터셋은 이미지 사이즈가 제각각\n",
        "# data generator의 옵션을 통해 크기 통일\n",
        "\n",
        "# train 데이터셋 설정\n",
        "# (1) tarin_datagen을 ImageDataGenerator 클래스로 위에서 선언\n",
        "# > ImageDataGenerator는 '.flow', '.flow_from_directory', '.flow_from_dataframe'등을 사용할 수 있음\n",
        "# > 내가 사용하는 데이터셋은 폴더별로 분류되어 있기 때문에 flow_from_directory 사용\n",
        "# (2) 데이터셋이 존재하는 폴더 경로를 지정\n",
        "# > 구글 드라이브 마운트 주소 : 'drive/My Drive/caltech101'\n",
        "# (3) target_size & batch_size를 위에서 설정한 사이즈로 지정\n",
        "# (4) 총 101개의 종류를 분류하는 것이기 때문에 binary가 아닌 categorical로 설정\n",
        "# (5) subset은 training으로 지정\n",
        "\n",
        "batch_size = 16\n",
        "input_image_size = (200, 200)\n",
        "\n",
        "train_generator = train_datagen.flow_from_directory(\n",
        "    '/drive/My Drive/caltech101',\n",
        "    target_size = input_image_size,\n",
        "    batch_size = batch_size,\n",
        "    class_mode = 'categorical',\n",
        "    subset = 'training'\n",
        ")"
      ],
      "execution_count": 8,
      "outputs": [
        {
          "output_type": "stream",
          "text": [
            "Found 6982 images belonging to 101 classes.\n"
          ],
          "name": "stdout"
        }
      ]
    },
    {
      "cell_type": "code",
      "metadata": {
        "id": "Sm2EN3dqN0iC",
        "colab_type": "code",
        "colab": {
          "base_uri": "https://localhost:8080/",
          "height": 34
        },
        "outputId": "37c69074-833f-4983-da3d-2f6fe285cf03"
      },
      "source": [
        "# validation 데이터셋 설정\n",
        "# validation 데이터셋이 존재하는 폴더를 따로 만든 것이 아님\n",
        "# 따라서 training 데이터셋이 존재하는 폴더를 지정해줘야 함\n",
        "# 다른 모든 내용은 training 데이터셋과 동일\n",
        "# 결과적으로 데이터셋을 미리 분류해 놓지 않아도 됨\n",
        "# subset은 validation으로 지정\n",
        "\n",
        "validation_generator = train_datagen.flow_from_directory(\n",
        "    '/drive/My Drive/caltech101',\n",
        "    target_size = input_image_size,\n",
        "    batch_size = batch_size,\n",
        "    class_mode = 'categorical',\n",
        "    subset = 'validation'\n",
        ")"
      ],
      "execution_count": 9,
      "outputs": [
        {
          "output_type": "stream",
          "text": [
            "Found 1695 images belonging to 101 classes.\n"
          ],
          "name": "stdout"
        }
      ]
    },
    {
      "cell_type": "code",
      "metadata": {
        "id": "fTn7qcSGPZSC",
        "colab_type": "code",
        "colab": {}
      },
      "source": [
        "# 데이터셋 준비와 전처리 끝\n",
        "# 실제 진행 상황\n",
        "# (1) 데이터셋 다운로드 및 구글 드라이브에 업로드\n",
        "# (2) 코랩 설치\n",
        "# (3) 코랩에 구글 드라이브 마운트\n",
        "# (4) 코드 작성"
      ],
      "execution_count": 0,
      "outputs": []
    },
    {
      "cell_type": "code",
      "metadata": {
        "id": "cCxUyV7hSs3Q",
        "colab_type": "code",
        "colab": {
          "base_uri": "https://localhost:8080/",
          "height": 1000
        },
        "outputId": "bfcfbada-b41e-4354-e55f-8cdabe6397df"
      },
      "source": [
        "from keras.layers import Dense, Input, Activation, Conv2D, MaxPooling2D, Flatten, Dropout\n",
        "from keras.models import Model, Sequential\n",
        "from keras.callbacks import EarlyStopping\n",
        "from keras import optimizers\n",
        "from keras.preprocessing.image import ImageDataGenerator\n",
        "\n",
        "train_datagen = ImageDataGenerator(rescale = 1. / 225, validation_split = 0.2)\n",
        "\n",
        "batch_size = 16\n",
        "input_image_size = (200, 200)\n",
        "\n",
        "train_generator = train_datagen.flow_from_directory(\n",
        "    '/drive/My Drive/caltech101',\n",
        "    target_size = input_image_size,\n",
        "    batch_size = batch_size,\n",
        "    class_mode = 'categorical',\n",
        "    subset = 'training'\n",
        ")\n",
        "\n",
        "validation_generator = train_datagen.flow_from_directory(\n",
        "    '/drive/My Drive/caltech101',\n",
        "    target_size = input_image_size,\n",
        "    batch_size = batch_size,\n",
        "    class_mode = 'categorical',\n",
        "    subset = 'validation'\n",
        ")\n",
        "\n",
        "model = Sequential()\n",
        "model.add(Conv2D(32, (3, 3), activation = 'relu', input_shape = (200, 200, 3)))\n",
        "model.add(MaxPooling2D(pool_size = (2, 2)))\n",
        "\n",
        "model.add(Conv2D(32, (3, 3), activation = 'relu'))\n",
        "model.add(MaxPooling2D(pool_size = (2, 2)))\n",
        "\n",
        "model.add(Conv2D(64, (3, 3), activation = 'relu'))\n",
        "model.add(MaxPooling2D(pool_size = (2, 2)))\n",
        "\n",
        "model.add(Flatten())\n",
        "model.add(Dense(1024))\n",
        "model.add(Activation('sigmoid'))\n",
        "model.add(Dropout(0.5))\n",
        "model.add(Dense(101))\n",
        "model.add(Activation('softmax'))\n",
        "model.summary()\n",
        "\n",
        "model.compile(\n",
        "    optimizer = optimizers.adam(),\n",
        "    loss = 'categorical_crossentropy',\n",
        "    metrics = ['acc']\n",
        ")\n",
        "\n",
        "early_stopping = EarlyStopping(patience = 15, mode = 'auto', monitor = 'val_acc')\n",
        "hist = model.fit_generator(train_generator, steps_per_epoch = train_generator.samples // batch_size,\n",
        "                           validation_data = validation_generator,\n",
        "                           epochs = 100,\n",
        "                           callbacks = [early_stopping])\n",
        "\n",
        "import matplotlib\n",
        "import matplotlib.pyplot as plt\n",
        "\n",
        "fig, loss_ax = plt.subplots()\n",
        "\n",
        "acc_ax = loss_ax.twinx()\n",
        "\n",
        "loss_ax.plot(hist.history['loss'], 'y', label = 'train loss')\n",
        "loss_ax.plot(hist.history['val_loss'], 'g', label = 'validation loss')\n",
        "acc_ax.plot(hist.history['acc'], 'b', label = 'train acc')\n",
        "acc_ax.plot(hist.history['val_acc'], 'r', label = 'validation acc')\n",
        "\n",
        "plt.legend(['train acc', 'validation acc', 'train loss', 'validation loss'])\n",
        "plt.show()"
      ],
      "execution_count": 15,
      "outputs": [
        {
          "output_type": "stream",
          "text": [
            "Found 6982 images belonging to 101 classes.\n",
            "Found 1695 images belonging to 101 classes.\n",
            "Model: \"sequential_2\"\n",
            "_________________________________________________________________\n",
            "Layer (type)                 Output Shape              Param #   \n",
            "=================================================================\n",
            "conv2d_4 (Conv2D)            (None, 198, 198, 32)      896       \n",
            "_________________________________________________________________\n",
            "max_pooling2d_4 (MaxPooling2 (None, 99, 99, 32)        0         \n",
            "_________________________________________________________________\n",
            "conv2d_5 (Conv2D)            (None, 97, 97, 32)        9248      \n",
            "_________________________________________________________________\n",
            "max_pooling2d_5 (MaxPooling2 (None, 48, 48, 32)        0         \n",
            "_________________________________________________________________\n",
            "conv2d_6 (Conv2D)            (None, 46, 46, 64)        18496     \n",
            "_________________________________________________________________\n",
            "max_pooling2d_6 (MaxPooling2 (None, 23, 23, 64)        0         \n",
            "_________________________________________________________________\n",
            "flatten_2 (Flatten)          (None, 33856)             0         \n",
            "_________________________________________________________________\n",
            "dense_3 (Dense)              (None, 1024)              34669568  \n",
            "_________________________________________________________________\n",
            "activation_3 (Activation)    (None, 1024)              0         \n",
            "_________________________________________________________________\n",
            "dropout_2 (Dropout)          (None, 1024)              0         \n",
            "_________________________________________________________________\n",
            "dense_4 (Dense)              (None, 101)               103525    \n",
            "_________________________________________________________________\n",
            "activation_4 (Activation)    (None, 101)               0         \n",
            "=================================================================\n",
            "Total params: 34,801,733\n",
            "Trainable params: 34,801,733\n",
            "Non-trainable params: 0\n",
            "_________________________________________________________________\n",
            "Epoch 1/100\n",
            "436/436 [==============================] - 2724s 6s/step - loss: 3.3474 - acc: 0.3191 - val_loss: 3.2250 - val_acc: 0.4088\n",
            "Epoch 2/100\n",
            "436/436 [==============================] - 524s 1s/step - loss: 2.0987 - acc: 0.5126 - val_loss: 2.4232 - val_acc: 0.5546\n",
            "Epoch 3/100\n",
            "436/436 [==============================] - 531s 1s/step - loss: 1.1659 - acc: 0.7192 - val_loss: 0.9452 - val_acc: 0.6000\n",
            "Epoch 4/100\n",
            "436/436 [==============================] - 529s 1s/step - loss: 0.5327 - acc: 0.8846 - val_loss: 1.6353 - val_acc: 0.6142\n",
            "Epoch 5/100\n",
            "436/436 [==============================] - 527s 1s/step - loss: 0.2018 - acc: 0.9640 - val_loss: 0.9548 - val_acc: 0.6437\n",
            "Epoch 6/100\n",
            "436/436 [==============================] - 529s 1s/step - loss: 0.0902 - acc: 0.9881 - val_loss: 1.4771 - val_acc: 0.6519\n",
            "Epoch 7/100\n",
            "436/436 [==============================] - 529s 1s/step - loss: 0.0410 - acc: 0.9957 - val_loss: 1.7431 - val_acc: 0.6572\n",
            "Epoch 8/100\n",
            "436/436 [==============================] - 529s 1s/step - loss: 0.0244 - acc: 0.9974 - val_loss: 1.5604 - val_acc: 0.6649\n",
            "Epoch 9/100\n",
            "436/436 [==============================] - 524s 1s/step - loss: 0.0156 - acc: 0.9986 - val_loss: 1.1799 - val_acc: 0.6602\n",
            "Epoch 10/100\n",
            "436/436 [==============================] - 528s 1s/step - loss: 0.0114 - acc: 0.9988 - val_loss: 1.3888 - val_acc: 0.6661\n",
            "Epoch 11/100\n",
            "436/436 [==============================] - 530s 1s/step - loss: 0.0157 - acc: 0.9980 - val_loss: 1.1322 - val_acc: 0.6413\n",
            "Epoch 12/100\n",
            "436/436 [==============================] - 527s 1s/step - loss: 0.0078 - acc: 0.9990 - val_loss: 1.4904 - val_acc: 0.6531\n",
            "Epoch 13/100\n",
            "436/436 [==============================] - 529s 1s/step - loss: 0.0072 - acc: 0.9991 - val_loss: 3.1402 - val_acc: 0.6395\n",
            "Epoch 14/100\n",
            "436/436 [==============================] - 529s 1s/step - loss: 0.0053 - acc: 0.9991 - val_loss: 1.6945 - val_acc: 0.6619\n",
            "Epoch 15/100\n",
            "436/436 [==============================] - 527s 1s/step - loss: 0.0035 - acc: 0.9993 - val_loss: 1.4176 - val_acc: 0.6602\n",
            "Epoch 16/100\n",
            "436/436 [==============================] - 528s 1s/step - loss: 0.0046 - acc: 0.9993 - val_loss: 1.5287 - val_acc: 0.6684\n",
            "Epoch 17/100\n",
            "436/436 [==============================] - 524s 1s/step - loss: 0.0054 - acc: 0.9991 - val_loss: 2.1745 - val_acc: 0.6549\n",
            "Epoch 18/100\n",
            "436/436 [==============================] - 527s 1s/step - loss: 0.0135 - acc: 0.9973 - val_loss: 4.2873 - val_acc: 0.5475\n",
            "Epoch 19/100\n",
            "436/436 [==============================] - 523s 1s/step - loss: 0.0958 - acc: 0.9757 - val_loss: 1.2761 - val_acc: 0.6024\n",
            "Epoch 20/100\n",
            "436/436 [==============================] - 521s 1s/step - loss: 0.0310 - acc: 0.9941 - val_loss: 2.7053 - val_acc: 0.6260\n",
            "Epoch 21/100\n",
            "436/436 [==============================] - 525s 1s/step - loss: 0.0158 - acc: 0.9964 - val_loss: 2.3005 - val_acc: 0.6289\n",
            "Epoch 22/100\n",
            "436/436 [==============================] - 523s 1s/step - loss: 0.0178 - acc: 0.9961 - val_loss: 2.7779 - val_acc: 0.6165\n",
            "Epoch 23/100\n",
            "436/436 [==============================] - 527s 1s/step - loss: 0.0110 - acc: 0.9976 - val_loss: 0.9235 - val_acc: 0.6425\n",
            "Epoch 24/100\n",
            "436/436 [==============================] - 519s 1s/step - loss: 0.0158 - acc: 0.9964 - val_loss: 0.7980 - val_acc: 0.6112\n",
            "Epoch 25/100\n",
            "436/436 [==============================] - 526s 1s/step - loss: 0.0089 - acc: 0.9978 - val_loss: 1.5550 - val_acc: 0.6147\n",
            "Epoch 26/100\n",
            "436/436 [==============================] - 525s 1s/step - loss: 0.0088 - acc: 0.9980 - val_loss: 2.4236 - val_acc: 0.6195\n",
            "Epoch 27/100\n",
            "436/436 [==============================] - 524s 1s/step - loss: 0.0046 - acc: 0.9993 - val_loss: 1.2239 - val_acc: 0.6366\n",
            "Epoch 28/100\n",
            "436/436 [==============================] - 523s 1s/step - loss: 0.0056 - acc: 0.9989 - val_loss: 3.4407 - val_acc: 0.6277\n",
            "Epoch 29/100\n",
            "436/436 [==============================] - 524s 1s/step - loss: 0.0142 - acc: 0.9971 - val_loss: 1.1683 - val_acc: 0.5735\n",
            "Epoch 30/100\n",
            "436/436 [==============================] - 524s 1s/step - loss: 0.0182 - acc: 0.9954 - val_loss: 1.6497 - val_acc: 0.6224\n",
            "Epoch 31/100\n",
            "436/436 [==============================] - 521s 1s/step - loss: 0.0202 - acc: 0.9945 - val_loss: 2.6402 - val_acc: 0.5953\n"
          ],
          "name": "stdout"
        },
        {
          "output_type": "display_data",
          "data": {
            "image/png": "[encoded data removed]",
            "text/plain": [
              "<Figure size 432x288 with 2 Axes>"
            ]
          },
          "metadata": {
            "tags": [],
            "needs_background": "light"
          }
        }
      ]
    },
    {
      "cell_type": "code",
      "metadata": {
        "id": "PVTcWPJZS2uo",
        "colab_type": "code",
        "colab": {}
      },
      "source": [
        ""
      ],
      "execution_count": 0,
      "outputs": []
    }
  ]
}