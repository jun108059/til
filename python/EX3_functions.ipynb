{
 "cells": [
  {
   "cell_type": "markdown",
   "metadata": {},
   "source": [
    "# EX. Functions"
   ]
  },
  {
   "cell_type": "markdown",
   "metadata": {},
   "source": [
    "## 1.\tArgument-matching examples. \n",
    "First, define the following six functions (either interactively or in a module file that can be imported):"
   ]
  },
  {
   "cell_type": "code",
   "execution_count": 1,
   "metadata": {},
   "outputs": [],
   "source": [
    "def f1(a, b): print(a, b)           # Normal args \n",
    "def f2(a, *b): print(a, b)          # Positional var args\n",
    "def f3(a, **b): print(a, b)         # Keyword var args\n",
    "def f4(a, *b, **c): print(a, b, c)  # Mixed modes\n",
    "def f5(a, b=2, c=3): print(a, b, c) # Default values\n",
    "def f6(a, b=2, *c): print(a, b, c)  # Defaults and positional var args"
   ]
  },
  {
   "cell_type": "markdown",
   "metadata": {},
   "source": [
    "Now, test the following calls interactively.."
   ]
  },
  {
   "cell_type": "code",
   "execution_count": 2,
   "metadata": {
    "scrolled": false
   },
   "outputs": [
    {
     "name": "stdout",
     "output_type": "stream",
     "text": [
      "1 2\n",
      "1 2\n"
     ]
    }
   ],
   "source": [
    "# case a)\n",
    "f1(1, 2)\n",
    "f1(b=2, a=1)"
   ]
  },
  {
   "cell_type": "code",
   "execution_count": 3,
   "metadata": {},
   "outputs": [
    {
     "name": "stdout",
     "output_type": "stream",
     "text": [
      "1 (2, 3)\n",
      "1 {'x': 2, 'y': 3}\n",
      "1 (2, 3) {'x': 2, 'y': 3}\n"
     ]
    }
   ],
   "source": [
    "# case b)\n",
    "f2(1, 2, 3) \n",
    "f3(1, x=2, y=3) \n",
    "f4(1, 2, 3, x=2, y=3)"
   ]
  },
  {
   "cell_type": "code",
   "execution_count": 4,
   "metadata": {},
   "outputs": [
    {
     "name": "stdout",
     "output_type": "stream",
     "text": [
      "1 2 3\n",
      "1 4 3\n"
     ]
    }
   ],
   "source": [
    "# case c)\n",
    "f5(1)\n",
    "f5(1, 4)"
   ]
  },
  {
   "cell_type": "code",
   "execution_count": 5,
   "metadata": {},
   "outputs": [
    {
     "name": "stdout",
     "output_type": "stream",
     "text": [
      "1 2 ()\n",
      "1 3 (4,)\n"
     ]
    }
   ],
   "source": [
    "# case d)\n",
    "f6(1)\n",
    "f6(1, 3, 4)"
   ]
  },
  {
   "cell_type": "markdown",
   "metadata": {},
   "source": [
    "Try to explain each result."
   ]
  },
  {
   "cell_type": "markdown",
   "metadata": {},
   "source": [
    "\n",
    "## Case a)\n",
    "def f1(a, b): print(a, b)  \n",
    "\n",
    "f1(1,2) -->  일반적인 argument를 넣어주면 a = 1, b = 2로 assign된다.  \n",
    "또 Python은 keyward argument를 지원하기 때문에 f1(b=2, a=1)을 호출하면  \n",
    "Keyward argument로 인식하여 print(a, b)에 a = 1, b = 2로 assign되기 때문에 case a)의 두 호출 결과가 같다.  \n",
    "\n",
    "## Case b)  \n",
    "def f2(a, \\*b): print(a, b)  \n",
    "def f3(a, \\*\\*b): print(a, b)  \n",
    "def f4(a, \\*b, \\*\\*c): print(a, b, c)  \n",
    "\n",
    "Python의 함수 argument로 '\\*'을 넣으면 **tuple 형태**로 묶여 여러개의 인자를 받아온다. 또 '\\*\\*'을 넣으면 **dictionary 형태**로 묶여 여러개의 인자를 받아올 수 있고, key와 value 쌍으로 argument를 넣어줘야 한다.  \n",
    "\n",
    "f2(1, 2, 3) 실행 결과는 1 (2, 3)으로 2와 3이 '\\*b'의 인자로 받아져 tuple로 묶였고  \n",
    "f3(1, x=2, y=3) 실행 결과는 1, {'x': 2, ;'y': 3}으로 '\\*\\*b'의 인자로 받아져    dictionary 로 묶였다.  \n",
    "\n",
    "argument로 tuple과 dictionary를 모두 사용할 수 있는데 f4()의 경우가 예시이다.  \n",
    "f4(1, 2, 3, x=2, y=3) 실행 결과는 1 (2,3) {'x': 2, 'y': 3}으로 각각 '\\*b'와,   '\\*\\*c'의 인자로 받아져 tuple, dictionary로 각각 묶였다.   \n",
    "\n",
    "# Case c)\n",
    "def f5(a, b=2, c=3): print(a, b ,c)  \n",
    "\n",
    "이 경우는 argument를 선언과 동시에 초기화 해주었는데,  \n",
    "'b'와 'c' argument에는 값을 넣어주지 않아도 f5(1) 예시처럼 초기화 된 값이 출력되게 되며 f5(1, 4)를 호출하면 'a'에는 1이 assign되고, 'b'는 초기 값 2가 아닌 4로 assign되게 된다.  \n",
    "\n",
    "# Case d)\n",
    "def f6(a, b=2, *c)  \n",
    "\n",
    "f6의 argument 중 'b'는 2로 초기화 해주었고 '\\*c'로 tuple을 받아온다.  \n",
    "\n",
    "원래 tuple을 생성할 때는 빈 tuple을 생성할 수 없는 것이 python의 원칙인데, 인자로 받는 경우는 빈 tuple이 출력되는 것을 확인할 수 있었다.  \n",
    "\n",
    "f6(1)을 호출하면 argument 'a'에 1이 assign되고 'b'는 초기화된 2가 출력되고, \\*c에 들어오는 것은 없어서 빈 tuple이 출력된다.   \n",
    "\n",
    "f6(1,3,4)를 호출하면 'a'에 1이 assign, 'b'는 3이 assign되고, \\*c에는 4가 tuple의 \n",
    "형태로 들어가 원소 1개 짜리 tuple이 만들어진다.  "
   ]
  },
  {
   "cell_type": "markdown",
   "metadata": {},
   "source": [
    "## 2.\tArguments. \n",
    "Write a function called ```adder``` in a Python module file. The function should accept two arguments and return the sum (or concatenation) of the two. Then, call the ```adder``` function with a variety of object types (two strings, two lists, two floating points).\n",
    "\n",
    "Python 모듈 파일에 Adder라는 함수를 쓰십시오. 함수는 두 개의 주장을 수용하고 두 개의 합계를 반환해야 한다. 그런 다음 다양한 객체 유형(줄 2개, 목록 2개, 부동점 2개)으로 애드더 함수를 호출한다."
   ]
  },
  {
   "cell_type": "code",
   "execution_count": 6,
   "metadata": {},
   "outputs": [
    {
     "name": "stdout",
     "output_type": "stream",
     "text": [
      "ParkYoungJun\n",
      "[6, 4, 3, 2, 'y', 'j']\n",
      "50.0\n"
     ]
    }
   ],
   "source": [
    "def adder(arg1, arg2): # two arguments\n",
    "    return arg1 + arg2 # return the sum\n",
    "\n",
    "# test code here\n",
    "print(adder(\"Park\" , \"YoungJun\"))    # two strings\n",
    "print(adder([6,4,3,2] , [\"y\", \"j\"])) # two lists\n",
    "print(adder(25.3 , 24.7))            # two floating points"
   ]
  },
  {
   "cell_type": "markdown",
   "metadata": {},
   "source": [
    "## 3.\tVariable arguments. \n",
    "Generalize the adder function you wrote in the above to compute the sum of an arbitrary number of arguments, and change the calls to pass more or fewer than two arguments. \n",
    "\n",
    "Hints: a slice such as ```S[:0]``` returns an empty sequence of the same type as S, and the type builtin function can test types \n",
    "\n",
    "\n",
    " 임의 수의 인수의 합계를 계산"
   ]
  },
  {
   "cell_type": "code",
   "execution_count": 7,
   "metadata": {
    "scrolled": false
   },
   "outputs": [
    {
     "name": "stdout",
     "output_type": "stream",
     "text": [
      "parkyoungjun\n",
      "[5, 6, 7, 'y', 'j']\n",
      "40.1\n",
      "10\n",
      "hello my name is hyoseop\n",
      "[1, 2, 3, 4, 5]\n",
      "28.1\n"
     ]
    }
   ],
   "source": [
    "def adder_s(*arg):\n",
    "    for i in arg[:1]:\n",
    "        sum = i\n",
    "    for k in arg[1:]:\n",
    "        sum = sum + k\n",
    "    return sum\n",
    "\n",
    "def adder(*arg1):\n",
    "    r_val = arg1[0]\n",
    "    for i in range(1,len(arg1)):\n",
    "        r_val = r_val +arg1[i]\n",
    "    return r_val\n",
    "\n",
    "print(adder_s(\"park\", \"young\", \"jun\"))\n",
    "print(adder_s([5, 6, 7] , [\"y\", \"j\"]))\n",
    "print(adder_s(22.3 , 17.8))\n",
    "print(adder_s(1,2,3,4))\n",
    "print(adder_s('hello ','my name ','is ','hyoseop'))\n",
    "print(adder_s([1,2], [3,4], [5]))\n",
    "print(adder_s(12.3, 15.8))"
   ]
  },
  {
   "cell_type": "markdown",
   "metadata": {},
   "source": [
    "What happens if you pass in arguments of different types? "
   ]
  },
  {
   "cell_type": "code",
   "execution_count": 8,
   "metadata": {
    "scrolled": false
   },
   "outputs": [],
   "source": [
    "# print(adder_s(\"park\", 0, \"jun\")\n",
    "\n",
    "# '*' argument로 다른 type으로 여러 argument를 넣으면 tuple로 묶이지 않아 오류 SyntaxError가 발생한다."
   ]
  },
  {
   "cell_type": "markdown",
   "metadata": {},
   "source": [
    "What about passing in dictionaries?"
   ]
  },
  {
   "cell_type": "code",
   "execution_count": 9,
   "metadata": {
    "scrolled": false
   },
   "outputs": [],
   "source": [
    "# print(adder_s({'a': 1, 'b': 2}, {'c': 3, 'd': 4}))\n",
    "# print(adder_s(x=5, y=6))\n",
    "\n",
    "# '*' argument는 tuple로 만들어주는데 이 때 dictionary의 type으로 argument를 전달하면\n",
    "# tuple 내부에 dictionary를 더해서 넣을 수 없기 때문에 TypeError를 출력한다."
   ]
  },
  {
   "cell_type": "markdown",
   "metadata": {},
   "source": [
    "## 4.\tDictionary. \n",
    "Write a function called ```add_dict(dict1, dict2)``` that computes the union of two dictionaries. It should return a new dictionary containing all the items in both its arguments (which are assumed to be dictionaries). If the same key appears in both arguments, feel free to pick a value from either.\n"
   ]
  },
  {
   "cell_type": "code",
   "execution_count": 10,
   "metadata": {},
   "outputs": [
    {
     "name": "stdout",
     "output_type": "stream",
     "text": [
      "{'key1': 9, 'key2': 5, 'key3': 4}\n",
      "{'a': 1, 'b': 3, 'd': 4}\n"
     ]
    }
   ],
   "source": [
    "def add_dict(dict1, dict2): # computes the uion of two dictionaries\n",
    "    sum_d = dict1\n",
    "    sum_d.update(dict2)     # update() 메소드\n",
    "                            # 두 개의 dictionary를 합쳐줌\n",
    "                            # key가 일치하면 둘 중에 큰 value로 assign\n",
    "    return sum_d\n",
    "\n",
    "dict1 = {'key1' : 3, 'key2' : 5}\n",
    "dict2 = {'key1' : 9, 'key3' : 4}\n",
    "print(add_dict(dict1, dict2)) # key1의 value가 9로 assign\n",
    "\n",
    "\n",
    "# 다른 풀이\n",
    "def add_dict2(dict1,dict2):\n",
    "    return {**dict1,**dict2}\n",
    "print(add_dict({'a':1,'b':2},{'b':3, 'd':4}))"
   ]
  },
  {
   "cell_type": "markdown",
   "metadata": {},
   "source": [
    "What happens if you pass lists instead of dictionaries? "
   ]
  },
  {
   "cell_type": "code",
   "execution_count": 11,
   "metadata": {
    "scrolled": true
   },
   "outputs": [],
   "source": [
    "# list1 = ['a', 'b', 'c'] # dictionary 대신 list로 선언\n",
    "# list2 = [1, 2, 3]\n",
    "# print(add_dict(list1, list2))\n",
    "\n",
    "# update()메소드는 dictionary를 합치는 메소드로\n",
    "# list에는 update() 메소드가 없어 AttributeError가 출력된다"
   ]
  },
  {
   "cell_type": "markdown",
   "metadata": {},
   "source": [
    "How could you generalize(rewrite) your function to handle this case, too? (Hint: see the ```type``` built-in function used earlier.)"
   ]
  },
  {
   "cell_type": "code",
   "execution_count": 12,
   "metadata": {
    "scrolled": true
   },
   "outputs": [
    {
     "name": "stdout",
     "output_type": "stream",
     "text": [
      ">>> Sum of lists\n",
      "[1, 7, 5, 'p', 'y', 'j']\n",
      "\n",
      ">>> Sum of Dictionary\n",
      "{'key1': 3, 'key2': 2, 'key3': 4}\n"
     ]
    }
   ],
   "source": [
    "def add_dict_g(dict1, dict2): # type을 이용해 받은 인자를 확인 \n",
    "    if type(dict1) == list:   # argument가 list type이라면\n",
    "        if type(dict2) == list:\n",
    "            sum_list  = dict1 +  dict2\n",
    "            return sum_list   # list의 합 반환\n",
    "    sum_dict = dict1          # list type이 아니라면 dict으로 간주\n",
    "    sum_dict.update(dict2)\n",
    "    return sum_dict           # dict의 합 반환\n",
    "\n",
    "list1 = [1, 7, 5]\n",
    "list2 = ['p', 'y', 'j']\n",
    "\n",
    "print(\">>> Sum of lists\")\n",
    "print(add_dict_g(list1, list2))\n",
    "\n",
    "dict1 = {'key1' : 1, 'key2' : 2}\n",
    "dict2 = {'key1' : 3, 'key3' : 4}\n",
    "dict3 = {'key4' : 6, 'key5' : 7}\n",
    "print(\"\\n>>> Sum of Dictionary\")\n",
    "print(add_dict_g(dict1, dict2))"
   ]
  },
  {
   "cell_type": "markdown",
   "metadata": {},
   "source": [
    "Type Markdown and LaTeX:  α²"
   ]
  },
  {
   "cell_type": "markdown",
   "metadata": {},
   "source": [
    "> 𝛼²이 argument로 들어오면 𝛼²𝛼 2개를 인자로 받은 것으로 판단함\n",
    "따라서 add_dict_g(𝛼, 𝛼)로 나눠서 넣어 𝛼가 list인 경우 list * 2 의 결과가 출력되고\n",
    "𝛼가 dictionary인 경우 인자로 받은 𝛼가 한 번만 출력되게 된다."
   ]
  },
  {
   "cell_type": "markdown",
   "metadata": {},
   "source": [
    "## 5.\tComputing factorials. \n",
    "N!, is computed as N*(N-1)*(N-2)*...1. For instance, 6! is 6*5*4*3*2*1, or 720. Write a recursive function ```fact1(N)``` and an iterative function ```fact2(N)```. (Note: 0! == 0)"
   ]
  },
  {
   "cell_type": "code",
   "execution_count": 13,
   "metadata": {},
   "outputs": [
    {
     "name": "stdout",
     "output_type": "stream",
     "text": [
      ">>> fact1(N) result\n",
      "1\n",
      "720\n",
      ">>> fact2(N) result\n",
      "1\n",
      "720\n"
     ]
    }
   ],
   "source": [
    "def fact1(N):\n",
    "    if N == 1:\n",
    "        return N\n",
    "    else:\n",
    "        return N * fact1(N-1)\n",
    "\n",
    "def fact2(N):\n",
    "    factorial = 1\n",
    "    for i in range(1, N + 1):\n",
    "        factorial *= i\n",
    "    return factorial\n",
    "\n",
    "print(\">>> fact1(N) result\")\n",
    "print(fact1(1))\n",
    "print(fact1(6))\n",
    "print(\">>> fact2(N) result\")\n",
    "print(fact2(1))\n",
    "print(fact2(6))"
   ]
  }
 ],
 "metadata": {
  "kernelspec": {
   "display_name": "Python 3",
   "language": "python",
   "name": "python3"
  },
  "language_info": {
   "codemirror_mode": {
    "name": "ipython",
    "version": 3
   },
   "file_extension": ".py",
   "mimetype": "text/x-python",
   "name": "python",
   "nbconvert_exporter": "python",
   "pygments_lexer": "ipython3",
   "version": "3.6.5"
  }
 },
 "nbformat": 4,
 "nbformat_minor": 2
}
