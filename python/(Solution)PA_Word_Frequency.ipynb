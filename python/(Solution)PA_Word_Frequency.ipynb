{
 "cells": [
  {
   "cell_type": "markdown",
   "metadata": {},
   "source": [
    "## Word Frequency\n",
    "임의의 text file에 있는 word들의 빈도수를 구하려 한다. word는 대소문자 구분없고 숫자, 특수 문자들은 단어에서 배제된다.\n",
    "따라서, word들의 list를 만들기 전에 file을 읽고 난 후\n",
    "- 대문자는 소문자로 변환\n",
    "- 숫자, 특수문자는 `' '` 로 변환해야 할 것이다.\n",
    "\n",
    "#### Hint:\n",
    "주어진 text를 한 번 scan으로 효율적으로 변환해 주는 string method를 사용하면 될 것이다.\n",
    "`maketrans` method는 변환시키는 dictionany를 정의해 주고, `translate` method는 이를 가지고 변환한 새로운 string을 generate한다."
   ]
  },
  {
   "cell_type": "code",
   "execution_count": 4,
   "metadata": {
    "scrolled": true
   },
   "outputs": [
    {
     "name": "stdout",
     "output_type": "stream",
     "text": [
      " well  i never    said alice \n"
     ]
    }
   ],
   "source": [
    "the_text = '\"Well, I never!\", said Alice.'\n",
    "my_substitutions = the_text.maketrans(\n",
    "  # If you find any of these\n",
    "  \"ABCDEFGHIJKLMNOPQRSTUVWXYZ0123456789!\\\"#$%&()*+,-./:;<=>?@[]^_`{|}~'\\\\\",\n",
    "  # Replace them by these\n",
    "  \"abcdefghijklmnopqrstuvwxyz                                          \")\n",
    "\n",
    "# Translate the text now.\n",
    "cleaned_text = the_text.translate(my_substitutions)\n",
    "print(cleaned_text)"
   ]
  },
  {
   "cell_type": "markdown",
   "metadata": {},
   "source": [
    "#### Input: \n",
    "인터넷에 있는 *Alice in Wonderland* 동화책 내용을 다음과 같이 fetch한다."
   ]
  },
  {
   "cell_type": "code",
   "execution_count": 5,
   "metadata": {},
   "outputs": [
    {
     "name": "stdout",
     "output_type": "stream",
     "text": [
      "\r\n",
      "ALICE'S ADVENTURES IN WONDERLAND\r\n",
      "\r\n",
      "Lewis Carroll\r\n",
      "\r\n",
      "\r\n",
      "\r\n",
      "CHAPTER I. Down the Rabbit-Hole\r\n",
      "\r\n",
      "Alice was beginning to get very tired of sitting by her sister on the\r\n",
      "bank, and of having nothing to do: once or twice she had peeped into the\r\n",
      "book her sister was reading, but it had no pictures or conversations in\r\n",
      "it, 'and what is the use of a book,' thought Alice 'without pictures or\r\n",
      "conversation?'\r\n",
      "\r\n",
      "So she was considering in her own mind (as well as she could, for the\r\n",
      "hot day made her feel very\n"
     ]
    }
   ],
   "source": [
    "import urllib\n",
    "\n",
    "url = \"http://openbookproject.net/thinkcs/python/english3e/_downloads/alice_in_wonderland.txt\" \n",
    "with urllib.request.urlopen(url) as f:\n",
    "    contents = f.read().decode()\n",
    "print(contents[:500])"
   ]
  },
  {
   "cell_type": "markdown",
   "metadata": {},
   "source": [
    "#### Q1. How many different words are used in the *Alice in Wonderland*?"
   ]
  },
  {
   "cell_type": "code",
   "execution_count": 8,
   "metadata": {},
   "outputs": [
    {
     "name": "stdout",
     "output_type": "stream",
     "text": [
      "2630\n"
     ]
    }
   ],
   "source": [
    "new_contents = contents.maketrans(\n",
    "  \"ABCDEFGHIJKLMNOPQRSTUVWXYZ0123456789!\\\"#$%&()*+,-./:;<=>?@[]^_`{|}~\\\\\",\n",
    "  \"abcdefghijklmnopqrstuvwxyz                                         \")\n",
    "\n",
    "#소문자, 공백으로 치환(작은따옴표는 치환에서 제외)\n",
    "#단어사이의 '는 포함해야하므로 ' '작은따옴표 문장의 맨 앞단어, 맨 뒤단어 만 따로 처리해줌\n",
    "cleaned_contents = contents.translate(new_contents) \n",
    "\n",
    "word_list = cleaned_contents.split() #공백으로 split\n",
    "for i in range(0, len(word_list)):\n",
    "    if(word_list[i][0] == \"'\"): #작은따옴표로 시작하는 단어에서 따옴표제거\n",
    "        word_list[i] = word_list[i][1:]\n",
    "    elif(word_list[i][len(word_list[i])-1] == \"'\"): #작은따옴표로 끝나는 단어에서 따옴표 제거\n",
    "        word_list[i] = word_list[i][0:len(word_list[i])-1]\n",
    "\n",
    "# print(word_list)\n",
    "word_set = set(word_list) #중복제거를 위해 set으로 변형\n",
    "# print(word_set)\n",
    "word_set.remove('') #for 문 첫번째 if에서 따옴표 하나만 있는 것은 ''로 저장되므로 제거\n",
    "print(len(word_set))\n",
    "\n",
    "\n"
   ]
  },
  {
   "cell_type": "code",
   "execution_count": 23,
   "metadata": {},
   "outputs": [
    {
     "name": "stdout",
     "output_type": "stream",
     "text": [
      "27059\n"
     ]
    }
   ],
   "source": [
    "url = \"http://openbookproject.net/thinkcs/python/english3e/_downloads/alice_in_wonderland.txt\" \n",
    "with urllib.request.urlopen(url) as f:\n",
    "    page = f.read().decode()\n",
    "    \n",
    "    # 반복성이 없는 단순 text 는 우선적으로 처리\n",
    "    # '.' '-'로 구분됐지만 합쳐져야 단어의 의미를 나타내는 단어 변환\n",
    "    page = page.replace(\"'em\", \"them\")               # 'em은 them 의 축약형\n",
    "    page = page.replace(\"Ma'am\", \"Madam\")            # Madam 과 Miss 의 중간 의미 단어로 Madam 으로 변환\n",
    "    page = page.replace(\"W. RABBIT\", \"W＇RABBIT\")    # 사람 이름으로 나눠 쓰지 않도록 변환\n",
    "    page = page.replace(\"o'clock\", \"o＇clock\")       # o'clock으로 나눠지지 않도록 자연스럽게 변환\n",
    "    page = page.replace(\"arm-chair\", \"arm－chair\")\n",
    "    page = page.replace(\"to-night\", \"to－night\")          ##################################\n",
    "    page = page.replace(\"pine-apple\", \"pine－apple\")      # '-'가 있는 형태가 자연스러운 단어 #\n",
    "    page = page.replace(\"low-spirited\", \"low－spirited\")  ##################################\n",
    "    page = page.replace(\"looking-glass\", \"looking－glass\")\n",
    "    page = page.replace(\"fairy-tales\", \"fairy－tales\")\n",
    "    page = page.replace(\"lesson-books\", \"lesson－books\")\n",
    "    page = page.replace(\"sky-rocket\", \"sky－rocket\")\n",
    "    page = page.replace(\"guinea-pigs\", \"guinea－pigs\")\n",
    "    page = page.replace(\"queer-shaped\", \"queer－shaped\")\n",
    "    page = page.replace(\"sea-shore\", \"sea－shore\")\n",
    "    page = page.replace(\"jury-box\", \"jury－box\")\n",
    "    page = page.replace(\"never-ending\", \"never－ending\")\n",
    "    page = page.replace(\"star-fish\", \"starfish\")        #################################\n",
    "    page = page.replace(\"jelly-fish\", \"jellyfish\")      # '-'가 없어도 같은 뜻을 갖는 경우 #\n",
    "    page = page.replace(\"note-book\", \"notebook\")        #################################\n",
    "    page = page.replace(\"to-day\", \"today\")\n",
    "    # 본문에서 '--' 글자를 이어서 처리해야 하는 경우\n",
    "    page = page.replace('Beau--ootiful', 'beautiful')\n",
    "    page = page.replace('beauti--FUL', 'beautiful')\n",
    "    page = page.replace('Soo--oop', 'soup')\n",
    "    page = page.replace('e--e--evening', 'evening')\n",
    "    page = page.replace('beauti--ful', 'beautiful')\n",
    "    ####### 'd는 문맥을 파악하고 변환해야 하기 때문에 하나씩 해석해서 처리함 #######\n",
    "    ############################ 'd 중 would 변환 ############################\n",
    "    page = page.replace(\"'d rather\", \"wolud rather\")  # rather 앞 'd는 무조건 would\n",
    "    page = page.replace(\"'d soon fetch\", \"wolud soon fetch\")    # 해석할 경우 would가 적절함\n",
    "    page = page.replace(\"'d let\", \"wolud let\")                  # 해석할 경우 would가 적절함\n",
    "    page = page.replace(\"they'd take\", \"they would take\")       # 해석할 경우 would가 적절함\n",
    "    page = page.replace(\"he'd do\", \"he would do\")               # 해석할 경우 would가 적절함\n",
    "    page = page.replace(\"'d only\", \"would only\")                # 해석할 경우 would가 적절함\n",
    "    page = page.replace(\"'d like\", \"would like\")                # 해석할 경우 would가 적절함\n",
    "    page = page.replace(\"'d have\", \"would have\")                # 해석할 경우 would가 적절함\n",
    "    page = page.replace(\"'d \", \"would only\")                    # 해석할 경우 would가 적절함\n",
    "    ############################ 'd 중 had 변환 ############################\n",
    "    page = page.replace(\"'d better\", \"had better\")  # better 앞 'd는 무조건 had\n",
    "    page = page.replace(\"'d nearly forgotten\", \"had nearly forgotten\")\n",
    "    page = page.replace(\"'d taken\", \"had taken\")    ##################################\n",
    "    page = page.replace(\"'d gone\", \"had gone\")      ##### 과거분사 앞은 무조건 had #####\n",
    "    page = page.replace(\"'d been\", \"had been\")      ##################################\n",
    "    page = page.replace(\"'d hardly finished\", \"had hardly finished\")\n",
    "    page = page.replace('-', \" \")\n",
    "    # 'd의 다른 경우는 아래에서 처리함\n",
    "    # 'CHAPTER' 의 I V X는 영어 단어로 처리할 수 없어 특수문자로 변경\n",
    "    page = page.replace('CHAPTER I', 'CHAPTER Ⅰ')\n",
    "    page = page.replace('CHAPTER II', 'CHAPTER Ⅱ')\n",
    "    page = page.replace('CHAPTER III', 'CHAPTER Ⅲ')\n",
    "    page = page.replace('CHAPTER IV', 'CHAPTER Ⅳ')\n",
    "    page = page.replace('CHAPTER V', 'CHAPTER Ⅴ')\n",
    "    page = page.replace('CHAPTER VI', 'CHAPTER Ⅵ')\n",
    "    page = page.replace('CHAPTER VII', 'CHAPTER Ⅶ')\n",
    "    page = page.replace('CHAPTER VIII', 'CHAPTER Ⅷ')\n",
    "    page = page.replace('CHAPTER IX', 'CHAPTER Ⅸ')\n",
    "    page = page.replace('CHAPTER X', 'CHAPTER Ⅹ')\n",
    "    page = page.replace('CHAPTER XI', 'CHAPTER ⅩⅠ')\n",
    "    page = page.replace('CHAPTER XII', 'CHAPTER ⅩⅡ')\n",
    "# 동화책 페이지 단어 전처리 끝\n",
    "\n",
    "words_list = page.split()   # words_list 로 정리된 page 내용 넣기\n",
    "\n",
    "intab = \"ABCDEFGHIJKLMNOPQRSTUVWXYZ0123456789!\\\"#$%&()*+,-./:;<=>?@[]^_`{|}~'\\\\\"\n",
    "outtab = \"abcdefghijklmnopqrstuvwxyz                                          \"\n",
    "trantab = str.maketrans(intab, outtab)  # 텍스트에 문자 변환\n",
    "trans_list = []\n",
    "\n",
    "# 제거된 구두점의 공백을 처리하는 for 반복문\n",
    "index = 0\n",
    "for word in words_list:\n",
    "    word = word.translate(trantab)\n",
    "    if word.strip() == '':\n",
    "        continue\n",
    "    trans_list.append(word.strip())     # trans_list에 변환된 문자 삽입\n",
    "    if trans_list[index][-2:] == ' t':  # not 축약형 : n't\n",
    "        if trans_list[index] == 'can t':\n",
    "            trans_list.remove('can t')\n",
    "            trans_list.append('can')\n",
    "            trans_list.append(\"not\")\n",
    "        elif trans_list[index] == 'won t':\n",
    "            trans_list.remove('won t')\n",
    "            trans_list.append('will')\n",
    "            trans_list.append(\"not\")\n",
    "        elif trans_list[index] == 'ain t':\n",
    "            trans_list.remove('ain t')\n",
    "            trans_list.append('am')\n",
    "            trans_list.append(\"not\")\n",
    "        elif trans_list[index] == 'shan t':\n",
    "            trans_list.remove('shan t')\n",
    "            trans_list.append('shall')\n",
    "            trans_list.append(\"not\")\n",
    "        else:   # don t, didn t, doesn t, isn t, aren t, hasn t, hadn t,  haven t\n",
    "                # wouldn t, couldn t, shouldn t, wasn t, weren t, mayn t,\n",
    "            temp = trans_list[index]\n",
    "            trans_list.remove(trans_list[index])\n",
    "            trans_list.append(temp[:-3])\n",
    "            trans_list.append(\"not\")\n",
    "        # 's는 예외사항으로 처리하지 않음\n",
    "        index += 1\n",
    "    elif trans_list[index][-2:] == ' m':  # am 축약형 : 'm\n",
    "        trans_list.remove(trans_list[index])\n",
    "        trans_list.append('i')\n",
    "        trans_list.append(\"am\")\n",
    "        index += 1\n",
    "    elif trans_list[index][-3:] == ' ll':  # will 축약형 : 'll\n",
    "        temp = trans_list[index]\n",
    "        trans_list.remove(trans_list[index])\n",
    "        trans_list.append(temp[:-3])\n",
    "        trans_list.append(\"will\")\n",
    "        index += 1\n",
    "    elif trans_list[index][-3:] == ' re':  # are 축약형 : 're\n",
    "        temp = trans_list[index]\n",
    "        trans_list.remove(trans_list[index])\n",
    "        trans_list.append(temp[:-3])\n",
    "        trans_list.append(\"are\")\n",
    "        index += 1\n",
    "    elif trans_list[index][-3:] == ' ve':  # have 축약형 : 've\n",
    "        temp = trans_list[index]\n",
    "        trans_list.remove(trans_list[index])\n",
    "        trans_list.append(temp[:-3])\n",
    "        trans_list.append(\"have\")\n",
    "        index += 1\n",
    "    elif trans_list[index][-2:] == ' d':  # could 축약형 : 'd\n",
    "        temp = trans_list[index]\n",
    "        trans_list.remove(trans_list[index])\n",
    "        trans_list.append(temp[:-2])\n",
    "        trans_list.append(\"could\")\n",
    "        # 본문 txt에서 would와 had를 예외로 모두 처리하여 나머지만 could로 변경\n",
    "        # 영어 해석 상 should가 나오는 내용은 없다고 판단\n",
    "    index += 1\n",
    "\n",
    "print(len(trans_list))\n",
    "different_word = set(trans_list)"
   ]
  },
  {
   "cell_type": "code",
   "execution_count": 28,
   "metadata": {},
   "outputs": [
    {
     "name": "stdout",
     "output_type": "stream",
     "text": [
      ">>> 총 단어의 개수 :  27059\n",
      ">>> 사용된 다른 단어의 개수 :  2610\n"
     ]
    }
   ],
   "source": [
    "print(\">>> 총 단어의 개수 : \", len(trans_list))\n",
    "print(\">>> 사용된 다른 단어의 개수 : \", len(different_word))\n",
    "# print(\">>> 사용된 다른 단어 : \", different_word)"
   ]
  },
  {
   "cell_type": "markdown",
   "metadata": {},
   "source": [
    "#### Q2. List top 20 frequently used words and their frequencies in the *Alice in Wonderland*."
   ]
  },
  {
   "cell_type": "code",
   "execution_count": 30,
   "metadata": {},
   "outputs": [
    {
     "name": "stdout",
     "output_type": "stream",
     "text": [
      ">>> 많이 사용된 단어 20개 :  [('the', 1643), ('and', 872), ('to', 725), ('a', 632), ('she', 544), ('it', 538), ('i', 532), ('of', 514), ('said', 462), ('you', 401), ('alice', 386), ('in', 369), ('was', 368), ('not', 362), ('that', 281), ('as', 263), ('her', 248), ('at', 212), ('on', 193), ('had', 186)]\n",
      "Frequency of the word [ the ] is [ 1643 ]\n",
      "Frequency of the word [ and ] is [ 872 ]\n",
      "Frequency of the word [ to ] is [ 725 ]\n",
      "Frequency of the word [ a ] is [ 632 ]\n",
      "Frequency of the word [ she ] is [ 544 ]\n",
      "Frequency of the word [ it ] is [ 538 ]\n",
      "Frequency of the word [ i ] is [ 532 ]\n",
      "Frequency of the word [ of ] is [ 514 ]\n",
      "Frequency of the word [ said ] is [ 462 ]\n",
      "Frequency of the word [ you ] is [ 401 ]\n",
      "Frequency of the word [ alice ] is [ 386 ]\n",
      "Frequency of the word [ in ] is [ 369 ]\n",
      "Frequency of the word [ was ] is [ 368 ]\n",
      "Frequency of the word [ not ] is [ 362 ]\n",
      "Frequency of the word [ that ] is [ 281 ]\n",
      "Frequency of the word [ as ] is [ 263 ]\n",
      "Frequency of the word [ her ] is [ 248 ]\n",
      "Frequency of the word [ at ] is [ 212 ]\n",
      "Frequency of the word [ on ] is [ 193 ]\n",
      "Frequency of the word [ had ] is [ 186 ]\n"
     ]
    }
   ],
   "source": [
    "# translist 를 받아서 dictionary 로 바꿔줌\n",
    "def chage_dict(list):\n",
    "    dict_words = {}\n",
    "    for word in list:\n",
    "        dict_words[word] = 0\n",
    "    return dict_words\n",
    "\n",
    "dict_words = chage_dict(trans_list)     # chage_dict 으로 dictionary 형태로 만들어줌\n",
    "\n",
    "# list 에서 단어의 사용 빈도를 count\n",
    "def count(list, dict):\n",
    "    for word in list:\n",
    "        if word in dict:\n",
    "            dict[word] += 1\n",
    "    return dict\n",
    "\n",
    "count(trans_list, dict_words)           # 단어의 사용 빈도 수 계산\n",
    "\n",
    "\n",
    "def sort_dict(dic):  # Value 기준 sort\n",
    "    import operator\n",
    "    return sorted(dic.items(), key=operator.itemgetter(1), reverse=True)\n",
    "\n",
    "def sort_dict2(dic):  # Key 기준 sort (사용 안함)\n",
    "    import operator\n",
    "    return sorted(dic.items(), key=operator.itemgetter(0), reverse=True)\n",
    "\n",
    "sorted_dict = sort_dict(dict_words)     # sorted 함수 이용 Value 기준으로 정렬\n",
    "\n",
    "print(\">>> 많이 사용된 단어 20개 : \", sorted_dict[:20])\n",
    "for i in range(20):     # '사용 단어 - 사용된 빈도'로 출력\n",
    "    print(\"Frequency of the word [\", sorted_dict[i][0], \"] is [\", sorted_dict[i][1], \"]\")"
   ]
  },
  {
   "cell_type": "markdown",
   "metadata": {},
   "source": [
    "#### Q3. \n",
    "As children learn to read, there are expectations that their vocabulary will grow. So a child of age 14 is expected to know more words than a child of age 8. When prescribing reading books for a grade, an important question might be “which words in this book are not in the expected vocabulary at this level?”\n",
    "\n",
    "Find the words in the book *Alice in the Wonderland* are not in the vocabulary given in the file  http://openbookproject.net/thinkcs/python/english3e/_downloads/vocab.txt.\n",
    "\n",
    "(어린이가 수준 이상이 되는 단어들을 찾아내는 문제다. 적절한 수준의 단어들로 채워진 단어장에 없으면 적정 수준을 초과한 어려운 단어라는 의미다.)"
   ]
  },
  {
   "cell_type": "markdown",
   "metadata": {},
   "source": [
    "참고사항)\n",
    "is 와 are가 다른 단어 인거 처럼 daisy와 daisies도 다른 단어로 취급하겠습니다. 단수,복수 구분해주세요 \n",
    "\n",
    "\"'s\" 는 예외가 많습니다. (it has/ it is/ 소유격)\n",
    "- 따라서, it's 를 그냥 새로운 한 단어로 생각해서 풀어주세요.\n",
    "가령 girls' 라고 하면 이것도 새로운 한 단어라고 생각해주세요.\n",
    "- Alice랑 Alice's 각각 새로운 한단어라고 생각하시면 됩니다. 만약, there's 와 there is 가 나왔으면 전자는 1단어 후자는 2단어 입니다."
   ]
  },
  {
   "cell_type": "code",
   "execution_count": 38,
   "metadata": {},
   "outputs": [
    {
     "name": "stdout",
     "output_type": "stream",
     "text": [
      ">>> 어려운 단어의 개수 :  862\n",
      ">>> 어려운 단어 목록 :  ['alice s', 'adventures', 'wonderland', 'carroll', 'alice', 'having', 'peeped', 'pictures', 'conversations', 'getting', 'picking', 'daisies', 'eyes', 'occurred', 'ought', 'wondered', 'seemed', 'waistcoat', 'looked', 'started', 'flashed', 'dipped', 'stopping', 'falling', 'tried', 'sides', 'noticed', 'filled', 'cupboards', 'maps', 'pegs', 'passed', 'labelled', 'managed', 'tumbling', 'centre', 'learnt', 'lessons', 'schoolroom', 'that s', 'words', 'antipathies', 'listening', 'zealand', 'curtsey', 'curtseying', 'asking', 'talking', 'to－night', 'cats', 'bats', 'dozing', 'walking', 'jumped', 'hurrying', 'turned', 'ears', 'it s', 'longer', 'lamps', 'doors', 'locked', 'walked', 'wondering', 'legged', 'locks', 'inches', 'opened', 'larger', 'loveliest', 'longed', 'beds', 'flowers', 'fountains', 'shoulders', 'happened', 'waiting', 'hoping', 'rules', 'shutting', 'telescopes', 'printed', 'letters', 'histories', 'beasts', 'friends', 'bleeds', 'sooner', 'ventured', 'flavour', 'pine－apple', 'buttered', 'brightened', 'waited', 'legs', 'cried', 'there s', 'followed', 'scolded', 'tears', 'remembered', 'cheated', 'playing', 'pretending', 'currants', 'makes', 'smaller', 'happens', 'growing', 'remained', 'eats', 'expecting', 'Ⅰi', 'curiouser', 'largest', 'shoes', 'stockings', 'dears', 'boots', 'sending', 'presents', 'one s', 'esq', 'hearthrug', 'shedding', 'gallons', 'reaching', 'pattering', 'returning', 'dressed', 'gloves', 'trotting', 'muttering', 'dropped', 'skurried', 'fanning', 'changed', 'goes', 'ringlets', 'sorts', 'knows', 'she s', 'puzzling', 'let s', 'paris', 'doth', 'crossed', 'hands', 'sounded', 'shining', 'nile', 'seems', 'claws', 'fishes', 'smiling', 'toys', 'putting', 'rabbit s', 'shrinking', 'slipped', 'railway', 'bathing', 'machines', 'digging', 'houses', 'punished', 'drowned', 'splashing', 'nearer', 'o', 'speaking', 'brother s', 'inquisitively', 'daresay', 'ou', 'est', 'ma', 'chatte', 'animal s', 'sits', 'purring', 'paws', 'bristling', 'offended', 'youwolud', 'trembling', 'dogs', 'eyed', 'belongs', 'says', 'pounds', 'kills', 'rats', 'called', 'birds', 'animals', 'lory', 'eaglet', 'creatures', 'Ⅰii', 'looking', 'assembled', 'draggled', 'feathers', 'dripping', 'older', 'refused', 'ahem', 'driest', 'favoured', 'submitted', 'leaders', 'usurpation', 'edwin', 'morcar', 'earls', 'mercia', 'northumbria', 'frowning', 'declared', 'stigand', 'canterbury', 'replied', 'crossly', 'edgar', 'atheling', 'william s', 'normans', 'turning', 'rising', 'remedies', 'what s', 'tittered', 'paused', 'placed', 'liked', 'panting', 'shakespeare', 'prizes', 'voices', 'asked', 'pointing', 'pulled', 'comfits', 'handed', 'presented', 'cheered', 'bowed', 'caused', 'complained', 'ones', 'choked', 'patted', 'begged', 'promised', 'c', 'd', 'added', 'sighing', 'mouse s', 'cur', 'wasting', 'attending', 'pleaded', 'growled', 'others', 'joined', 'quicker', 'sighed', 'snappishly', 'addressing', 'shewolud', 'dinah s', 'remarking', 'pretexts', 'moved', 'mentioned', 'low－spirited', 'footsteps', 'Ⅰv', 'sends', 'executed', 'ferrets', 'guessed', 'naturedly', 'vanished', 'mary', 'doing', 'housemaid', 'finds', 'iwould', 'onlybetter', 'w＇rabbit', 'engraved', 'knocking', 'lest', 'messages', 'fancying', 'theywolud', 'ordering', 'hoped', 'pairs', 'looking－glass', 'uncorked', 'lips', 'expected', 'curled', 'pleasanter', 'ordered', 'rabbits', 'fairy－tales', 'fancied', 'answered', 'lesson－books', 'stopped', 'trembled', 'forgetting', 'proved', 'concluded', 'apples', 'yer', 'honour', 'sounds', 'arrum', 'fills', 'whispers', 'shrieks', 'frames', 'pulling', 'rumbling', 'cartwheels', 'where s', 'bill s', 'who s', 'nay', 'scratching', 'scrambling', 'squeaking', 'ye', 'comes', 'sky－rocket', 'barrowful', 'pebbles', 'rattling', 'shouted', 'youwould', 'produced', 'cakes', 'swallowed', 'guinea－pigs', 'giving', 'appeared', 'wandered', 'arranged', 'smallest', 'peering', 'trees', 'feebly', 'stretching', 'coaxing', 'picked', 'rushed', 'dodged', 'tumbled', 'trampled', 'charges', 'barking', 'puppy s', 'leant', 'fanned', 'tricks', 'onlynearly', 'blades', 'stretched', 'folded', 'hookah', 'addressed', 'sizes', 'chrysalis', 'contemptuously', 'irritated', 'caterpillar s', 'remarks', 'swallowing', 'puffed', 'unfolded', 'feared', 'grey', 'limbs', 'shilling', 'tougher', 'suet', 'bones', 'argued', 'lasted', 'questions', 'altered', 'changing', 'contradicted', 'losing', 'rearing', 'yawned', 'crawled', 'taller', 'shorter', 'nibbled', 'lefthand', 'head s', 'shaking', 'succeeded', 'curving', 'tops', 'wandering', 'screamed', 'banks', 'hedges', 'serpents', 'hatching', 'eggs', 'weeks', 'onlytaken', 'highest', 'raising', 'wriggling', 'changes', 'deepest', 'girls', 'denying', 'tasted', 'adding', 'matters', 'crouched', 'branches', 'untwist', 'pieces', 'nibbling', 'bringing', 'righthand', 'Ⅴi', 'footman', 'livery', 'considered', 'judging', 'rapped', 'knuckles', 'footmen', 'producing', 'curls', 'laughed', 'staring', 'knocked', 'reasons', 'howling', 'sneezing', 'uncivil', 'remarked', 'skimming', 'footman s', 'grazed', 'louder', 'muttered', 'repeating', 'variations', 'whistling', 'he s', 'stirring', 'cauldron', 'sneezed', 'moment s', 'grinning', 'grins', 'cheshire', 'grinned', 'throwing', 'irons', 'saucepans', 'plates', 'dishes', 'blows', 'jumping', 'carried', 'minded', 'faster', 'takes', 'glanced', 'figures', 'sneezes', 'teases', 'tossing', 'howled', 'pleases', 'flinging', 'frying', 'missed', 'queer－shaped', 'snorting', 'doubling', 'straightening', 'grunted', 'expressing', 'sobbing', 'sobbed', 'pigs', 'seeing', 'yards', 'natured', 'treated', 'puss', 'wider', 'depends', 'denied', 'waving', 'hatter', 'dog s', 'growls', 'wags', 'growling', 'invited', 'hatters', 'appearing', 'chimneys', 'shaped', 'thatched', 'raised', 'onlygone', 'Ⅴii', 'dormouse', 'using', 'resting', 'elbows', 'arm－chair', 'wants', 'they ve', 'riddles', 'ravens', 'desks', 'crumbs', 'grumbled', 'tells', 'o＇clock', 'stays', 'hatter s', 'poured', 'slightest', 'answers', 'accounts', 'twinkling', 'quarrelled', 'onlyhardly', 'bawled', 'murdering', 'exclaimed', 'whiles', 'interrupted', 'yawning', 'pinched', 'fellows', 'sisters', 'names', 'lacie', 'lived', 'eating', 'treacle', 'helped', 'sulkily', 'consented', 'dormouse s', 'unwillingly', 'choosing', 'interrupting', 'rubbing', 'begins', 'm', 'traps', 'muchness', 'stupidest', 'everything s', 'unlocking', 'Ⅴiii', 'queen s', 'roses', 'gardeners', 'jogged', 'deserved', 'beheaded', 'onions', 'chanced', 'watching', 'afore', 'faces', 'soldiers', 'carrying', 'corners', 'courtiers', 'ornamented', 'couples', 'guests', 'kings', 'queens', 'recognised', 'noticing', 'knave', 'king s', 'processions', 'smiled', 'rosetree', 'backs', 'bowing', 'examining', 'marched', 'roared', 'peeping', 'whispered', 'boxed', 'places', 'ridges', 'furrows', 'hedgehogs', 'mallets', 'flamingoes', 'arches', 'managing', 'tucked', 'straightened', 'hedgehog', 'bursting', 'laughing', 'provoking', 'unrolled', 'crawling', 'doubled', 'parts', 'players', 'played', 'turns', 'quarrelling', 'stamping', 'shouting', 'beheading', 'nodded', 'complaining', 'attends', 'croqueted', 'finishing', 'cat s', 'likes', 'iwolud', 'settling', 'difficulties', 'screaming', 'croqueting', 'appealed', 'arguments', 'executioner s', 'shewould', 'fading', 'disappeared', 'Ⅰx', 'turtle s', 'tempered', 'camomile', 'tut', 'squeezed', 'closer', 'game s', 'tis', 'minding', 'attended', 'duchess s', 'died', 'favourite', 'linked', 'sentenced', 'pardoned', 'executions', 'gryphon', 'leaving', 'rubbed', 'watched', 'chuckled', 'executes', 'pitied', 'hjckrrh', 'educations', 'extras', 'inquired', 'reeling', 'writhing', 'uglification', 'lifted', 'uglifying', 'beautify', 'prettier', 'uglify', 'simpleton', 'encouraged', 'counting', 'subjects', 'flappers', 'seaography', 'drawling', 'conger', 'fainting', 'coils', 'quadrille', 'flapper', 'sobs', 'punching', 'recovered', 'cheeks', 'introduced', 'sea－shore', 'seals', 'turtles', 'cleared', 'partners', 'lobsters', 'capering', 'yelled', 'dropping', 'treading', 'toes', 'forepaws', 'whiting', 'thanked', 'england', 'france', 'dinn', 'mouths', 'blacking', 'soles', 'eels', 'onlybeen', 'thoughts', 'explanations', 'gained', 'listeners', 'sluggard', 'baked', 'eyelids', 'trims', 'buttons', 'editions', 'follows', 'sands', 'tones', 'rises', 'sharks', 'tremulous', 'explained', 'persisted', 'sharing', 'permitted', 'received', 'hm', 'tastes', 'dainties', 'cares', 'pennyworth', 'trial s', 'panted', 'faintly', 'Ⅹi', 'tarts', 'seated', 'arrived', 'chains', 'theywould', 'onlyget', 'frontispiece', 'jury－box', 'jurors', 'slates', 'neighbour', 'squeaked', 'blasts', 'dates', 'reduced', 'shillings', 'pence', 'fidgeted', 'shifting', 'officers', 'singers', 't', 'twinkled', 'denies', 'suppressed', 'tied', 'guinea', 'newspapers', 'attempts', 'folding', 'shrieked', 'fumbled', 'Ⅹii', 'tipped', 'upsetting', 'jurymen', 'reminding', 'signifies', 'pencils', 'gazing', 'cackled', 'persons', 'i m', 'invented', 'oldest', 'directed', 'verses', 'prisoner s', 'queerest', 'imitated', 'else s', 'signed', 'clapping', 'proves', 'returned', 'trusts', 'sixpence', 'attempted', 'saves', 'spreading', 'clearer', 'fits', 'inkstand', 'trickling', 'you re', 'brushing', 'fluttered', 'you ve', 'i ve', 'kissed', 'dreaming', 'dreamed', 'clasped', 'listened', 'sister s', 'rustled', 'splashed', 'neighbouring', 'teacups', 'shared', 'never－ending', 'crashed', 'lizard s', 'choking', 'believed', 'rustling', 'rippling', 'reeds', 'tinkling', 'bells', 'cries', 'noises', 'clamour', 'lowing', 'pictured', 'riper', 'sorrows', 'joys', 'remembering']\n"
     ]
    }
   ],
   "source": [
    "voca_url = \"http://openbookproject.net/thinkcs/python/english3e/_downloads/vocab.txt\" \n",
    "with urllib.request.urlopen(voca_url) as t:    # vocab.txt 파일 열기\n",
    "    page2 = t.read().decode()             # 읽어와서 page 에 저장\n",
    "el_words_list = page2.split()    # page 단어 el_words_list 로 저장\n",
    "difficult_words = []            # 어려운 영단어 담을 words 리스트\n",
    "\n",
    "# 어려운 단어장 만드는 for 반복문\n",
    "# 어린이 단어장 리스트는 difficult_words\n",
    "for word in dict_words.keys():\n",
    "    if word not in el_words_list:       # vocab.txt 에 없는 경우\n",
    "        difficult_words.append(word)    # 없는 단어인 경우 append\n",
    "\n",
    "# 고유명사 - 이름은 단어장에 들어갈 단어가 아니므로 제외시키기 위해 제외\n",
    "# CHAPTER 에 있던 로마숫자도 단어장에서 제외시킴\n",
    "except_word = ['alice', 'lory', 'W.rabbit' 'mary', 'ann', 'dinah', 'lewis', 'carroll', 'ada', 'mabel', 'william',\n",
    "        'dodo', 'bill', 'elsie', 'lacie', 'tillie', 'paris', 'london', 'rome', 'new zealand', 'australia',\n",
    "        'Ⅰ', 'Ⅱ', 'Ⅲ', 'Ⅳ', 'Ⅴ', 'Ⅵ', 'Ⅶ', 'Ⅷ', 'Ⅸ', 'Ⅹ']\n",
    "\n",
    "# 어린이 수준 이상이 되는 단어들을 찾아내기 위해 동화책 단어 리스트에서 고유명사, 로마숫자를 빼는 작업\n",
    "for i in difficult_words:\n",
    "    if i in except_word:\n",
    "        difficult_words.remove(i)\n",
    "\n",
    "print(\">>> 어려운 단어의 개수 : \", len(difficult_words))\n",
    "print(\">>> 어려운 단어 목록 : \", difficult_words)\n"
   ]
  }
 ],
 "metadata": {
  "kernelspec": {
   "display_name": "Python 3",
   "language": "python",
   "name": "python3"
  },
  "language_info": {
   "codemirror_mode": {
    "name": "ipython",
    "version": 3
   },
   "file_extension": ".py",
   "mimetype": "text/x-python",
   "name": "python",
   "nbconvert_exporter": "python",
   "pygments_lexer": "ipython3",
   "version": "3.7.6"
  }
 },
 "nbformat": 4,
 "nbformat_minor": 2
}
